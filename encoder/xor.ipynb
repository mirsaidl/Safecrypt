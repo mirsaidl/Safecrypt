{
 "cells": [
  {
   "cell_type": "code",
   "execution_count": 9,
   "metadata": {},
   "outputs": [
    {
     "name": "stdout",
     "output_type": "stream",
     "text": [
      "1111\n",
      "0101\n",
      "1001\n"
     ]
    },
    {
     "data": {
      "text/plain": [
       "array([15,  5,  9], dtype=uint8)"
      ]
     },
     "execution_count": 9,
     "metadata": {},
     "output_type": "execute_result"
    }
   ],
   "source": [
    "import numpy as np\n",
    "# Define two example arrays\n",
    "a = np.array([0b1010, 0b1100, 0b1111], dtype=np.uint8)  # Binary: [1010, 1100, 1111]\n",
    "b = np.array([0b0101, 0b1001, 0b0110], dtype=np.uint8)  # Binary: [0101, 1001, 0110]\n",
    "# Perform bitwise XOR\n",
    "result = np.bitwise_xor(a, b)\n",
    "for r in result:\n",
    "    print(np.binary_repr(r, width=4))\n",
    "result "
   ]
  },
  {
   "cell_type": "code",
   "execution_count": 5,
   "metadata": {},
   "outputs": [
    {
     "name": "stdout",
     "output_type": "stream",
     "text": [
      "Binaries: 1101, 10001\n",
      "Bitwise XOR: 28, Binary: 11100\n"
     ]
    }
   ],
   "source": [
    "bin13 = np.binary_repr(13)\n",
    "bin17 = np.binary_repr(17)\n",
    "print(f\"Binaries: {bin13}, {bin17}\")\n",
    "\n",
    "bitwise_xor = np.bitwise_xor(13, 17)\n",
    "print(f\"Bitwise XOR: {bitwise_xor}, Binary: {np.binary_repr(bitwise_xor)}\")"
   ]
  },
  {
   "cell_type": "code",
   "execution_count": null,
   "metadata": {},
   "outputs": [],
   "source": []
  }
 ],
 "metadata": {
  "kernelspec": {
   "display_name": "venv",
   "language": "python",
   "name": "python3"
  },
  "language_info": {
   "codemirror_mode": {
    "name": "ipython",
    "version": 3
   },
   "file_extension": ".py",
   "mimetype": "text/x-python",
   "name": "python",
   "nbconvert_exporter": "python",
   "pygments_lexer": "ipython3",
   "version": "3.9.19"
  }
 },
 "nbformat": 4,
 "nbformat_minor": 2
}
